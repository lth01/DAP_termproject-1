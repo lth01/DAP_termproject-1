{
  "cells": [
    {
      "cell_type": "markdown",
      "metadata": {
        "id": "view-in-github",
        "colab_type": "text"
      },
      "source": [
        "<a href=\"https://colab.research.google.com/github/lth01/DAP_termproject-1/blob/master/dap_term_project.ipynb\" target=\"_parent\"><img src=\"https://colab.research.google.com/assets/colab-badge.svg\" alt=\"Open In Colab\"/></a>"
      ]
    },
    {
      "cell_type": "markdown",
      "metadata": {
        "id": "xQQui4UUxjx-"
      },
      "source": [
        "SLP_price,Ethereum_price,axie_price,Player_count 가 모여있는 csv파일 import"
      ]
    },
    {
      "cell_type": "code",
      "execution_count": 13,
      "metadata": {
        "id": "KGTLvUa9xfqu"
      },
      "outputs": [],
      "source": [
        "import numpy as np\n",
        "import pandas as pd\n",
        "import seaborn as sns\n",
        "import matplotlib.pyplot as plt\n",
        "from scipy.interpolate import interp1d\n",
        "\n",
        "#import packages"
      ]
    },
    {
      "cell_type": "code",
      "execution_count": 14,
      "metadata": {
        "colab": {
          "base_uri": "https://localhost:8080/",
          "height": 206
        },
        "id": "mPAItj33xyJ1",
        "outputId": "98efd40b-2557-4fd2-d1b3-d7664779c02d"
      },
      "outputs": [
        {
          "output_type": "execute_result",
          "data": {
            "text/html": [
              "\n",
              "  <div id=\"df-4c65953c-5e04-4e4d-a8ee-13858ee5746a\">\n",
              "    <div class=\"colab-df-container\">\n",
              "      <div>\n",
              "<style scoped>\n",
              "    .dataframe tbody tr th:only-of-type {\n",
              "        vertical-align: middle;\n",
              "    }\n",
              "\n",
              "    .dataframe tbody tr th {\n",
              "        vertical-align: top;\n",
              "    }\n",
              "\n",
              "    .dataframe thead th {\n",
              "        text-align: right;\n",
              "    }\n",
              "</style>\n",
              "<table border=\"1\" class=\"dataframe\">\n",
              "  <thead>\n",
              "    <tr style=\"text-align: right;\">\n",
              "      <th></th>\n",
              "      <th>Unnamed: 0</th>\n",
              "      <th>SLP_price</th>\n",
              "      <th>Axie_price</th>\n",
              "      <th>Ether_price</th>\n",
              "      <th>Player_count</th>\n",
              "    </tr>\n",
              "  </thead>\n",
              "  <tbody>\n",
              "    <tr>\n",
              "      <th>0</th>\n",
              "      <td>2021-11-16 16:40:00</td>\n",
              "      <td>0.067343</td>\n",
              "      <td>164650.0</td>\n",
              "      <td>5280000.0</td>\n",
              "      <td>111140.0</td>\n",
              "    </tr>\n",
              "    <tr>\n",
              "      <th>1</th>\n",
              "      <td>2021-11-16 16:41:00</td>\n",
              "      <td>0.067334</td>\n",
              "      <td>164450.0</td>\n",
              "      <td>5280000.0</td>\n",
              "      <td>110228.0</td>\n",
              "    </tr>\n",
              "    <tr>\n",
              "      <th>2</th>\n",
              "      <td>2021-11-16 16:42:00</td>\n",
              "      <td>0.067334</td>\n",
              "      <td>164600.0</td>\n",
              "      <td>5283000.0</td>\n",
              "      <td>110822.0</td>\n",
              "    </tr>\n",
              "    <tr>\n",
              "      <th>3</th>\n",
              "      <td>2021-11-16 16:43:00</td>\n",
              "      <td>0.067297</td>\n",
              "      <td>164600.0</td>\n",
              "      <td>5281000.0</td>\n",
              "      <td>110305.0</td>\n",
              "    </tr>\n",
              "    <tr>\n",
              "      <th>4</th>\n",
              "      <td>2021-11-16 16:44:00</td>\n",
              "      <td>0.067297</td>\n",
              "      <td>164600.0</td>\n",
              "      <td>5281000.0</td>\n",
              "      <td>110968.0</td>\n",
              "    </tr>\n",
              "  </tbody>\n",
              "</table>\n",
              "</div>\n",
              "      <button class=\"colab-df-convert\" onclick=\"convertToInteractive('df-4c65953c-5e04-4e4d-a8ee-13858ee5746a')\"\n",
              "              title=\"Convert this dataframe to an interactive table.\"\n",
              "              style=\"display:none;\">\n",
              "        \n",
              "  <svg xmlns=\"http://www.w3.org/2000/svg\" height=\"24px\"viewBox=\"0 0 24 24\"\n",
              "       width=\"24px\">\n",
              "    <path d=\"M0 0h24v24H0V0z\" fill=\"none\"/>\n",
              "    <path d=\"M18.56 5.44l.94 2.06.94-2.06 2.06-.94-2.06-.94-.94-2.06-.94 2.06-2.06.94zm-11 1L8.5 8.5l.94-2.06 2.06-.94-2.06-.94L8.5 2.5l-.94 2.06-2.06.94zm10 10l.94 2.06.94-2.06 2.06-.94-2.06-.94-.94-2.06-.94 2.06-2.06.94z\"/><path d=\"M17.41 7.96l-1.37-1.37c-.4-.4-.92-.59-1.43-.59-.52 0-1.04.2-1.43.59L10.3 9.45l-7.72 7.72c-.78.78-.78 2.05 0 2.83L4 21.41c.39.39.9.59 1.41.59.51 0 1.02-.2 1.41-.59l7.78-7.78 2.81-2.81c.8-.78.8-2.07 0-2.86zM5.41 20L4 18.59l7.72-7.72 1.47 1.35L5.41 20z\"/>\n",
              "  </svg>\n",
              "      </button>\n",
              "      \n",
              "  <style>\n",
              "    .colab-df-container {\n",
              "      display:flex;\n",
              "      flex-wrap:wrap;\n",
              "      gap: 12px;\n",
              "    }\n",
              "\n",
              "    .colab-df-convert {\n",
              "      background-color: #E8F0FE;\n",
              "      border: none;\n",
              "      border-radius: 50%;\n",
              "      cursor: pointer;\n",
              "      display: none;\n",
              "      fill: #1967D2;\n",
              "      height: 32px;\n",
              "      padding: 0 0 0 0;\n",
              "      width: 32px;\n",
              "    }\n",
              "\n",
              "    .colab-df-convert:hover {\n",
              "      background-color: #E2EBFA;\n",
              "      box-shadow: 0px 1px 2px rgba(60, 64, 67, 0.3), 0px 1px 3px 1px rgba(60, 64, 67, 0.15);\n",
              "      fill: #174EA6;\n",
              "    }\n",
              "\n",
              "    [theme=dark] .colab-df-convert {\n",
              "      background-color: #3B4455;\n",
              "      fill: #D2E3FC;\n",
              "    }\n",
              "\n",
              "    [theme=dark] .colab-df-convert:hover {\n",
              "      background-color: #434B5C;\n",
              "      box-shadow: 0px 1px 3px 1px rgba(0, 0, 0, 0.15);\n",
              "      filter: drop-shadow(0px 1px 2px rgba(0, 0, 0, 0.3));\n",
              "      fill: #FFFFFF;\n",
              "    }\n",
              "  </style>\n",
              "\n",
              "      <script>\n",
              "        const buttonEl =\n",
              "          document.querySelector('#df-4c65953c-5e04-4e4d-a8ee-13858ee5746a button.colab-df-convert');\n",
              "        buttonEl.style.display =\n",
              "          google.colab.kernel.accessAllowed ? 'block' : 'none';\n",
              "\n",
              "        async function convertToInteractive(key) {\n",
              "          const element = document.querySelector('#df-4c65953c-5e04-4e4d-a8ee-13858ee5746a');\n",
              "          const dataTable =\n",
              "            await google.colab.kernel.invokeFunction('convertToInteractive',\n",
              "                                                     [key], {});\n",
              "          if (!dataTable) return;\n",
              "\n",
              "          const docLinkHtml = 'Like what you see? Visit the ' +\n",
              "            '<a target=\"_blank\" href=https://colab.research.google.com/notebooks/data_table.ipynb>data table notebook</a>'\n",
              "            + ' to learn more about interactive tables.';\n",
              "          element.innerHTML = '';\n",
              "          dataTable['output_type'] = 'display_data';\n",
              "          await google.colab.output.renderOutput(dataTable, element);\n",
              "          const docLink = document.createElement('div');\n",
              "          docLink.innerHTML = docLinkHtml;\n",
              "          element.appendChild(docLink);\n",
              "        }\n",
              "      </script>\n",
              "    </div>\n",
              "  </div>\n",
              "  "
            ],
            "text/plain": [
              "            Unnamed: 0  SLP_price  Axie_price  Ether_price  Player_count\n",
              "0  2021-11-16 16:40:00   0.067343    164650.0    5280000.0      111140.0\n",
              "1  2021-11-16 16:41:00   0.067334    164450.0    5280000.0      110228.0\n",
              "2  2021-11-16 16:42:00   0.067334    164600.0    5283000.0      110822.0\n",
              "3  2021-11-16 16:43:00   0.067297    164600.0    5281000.0      110305.0\n",
              "4  2021-11-16 16:44:00   0.067297    164600.0    5281000.0      110968.0"
            ]
          },
          "metadata": {},
          "execution_count": 14
        }
      ],
      "source": [
        "df=pd.read_csv('https://raw.githubusercontent.com/lth01/DAP_termproject-1/master/preprocessing.csv')\n",
        "df.describe()\n",
        "df.head()\n",
        "\n",
        "#index는 datetime으로 이루어져있음, 2021-11-16~ 2021-11-30 까지의 데이터로 분류진행."
      ]
    },
    {
      "cell_type": "markdown",
      "metadata": {
        "id": "5EAVyAHV0cWR"
      },
      "source": [
        "실제 csv파일을 보게되면, 웹에서 실시간 데이터를 가져오다가 갑작스런 오류로 일정시간동안 측정을하지 못해 nan표시가 되어있는 col값을 볼수 있습니다."
      ]
    },
    {
      "cell_type": "code",
      "execution_count": 15,
      "metadata": {
        "colab": {
          "base_uri": "https://localhost:8080/",
          "height": 265
        },
        "id": "C6PmJDdZ0xFR",
        "outputId": "9a2a2ec1-6eeb-46cc-aff4-b1d485fa6b52"
      },
      "outputs": [
        {
          "output_type": "display_data",
          "data": {
            "image/png": "[encoded data removed]",
            "text/plain": [
              "<Figure size 432x288 with 4 Axes>"
            ]
          },
          "metadata": {
            "needs_background": "light"
          }
        }
      ],
      "source": [
        "df.rename(columns = {'Unnamed: 0':'Date'},inplace=True)\n",
        "plt.subplot(221)\n",
        "plt.plot(df.index,df['SLP_price'])\n",
        "plt.subplot(222)\n",
        "plt.plot(df.index,df['Axie_price'],'r')\n",
        "plt.subplot(223)\n",
        "plt.plot(df.index,df['Ether_price'],'g')\n",
        "plt.subplot(224)\n",
        "plt.plot(df.index,df['Player_count'],'y')\n",
        "\n",
        "plt.show()\n",
        "\n",
        "#아무런 추가 전처리 없이 그래프를 그렸을때 보여지는 모습.\n",
        "#접속중인 player_count가 높아졌다 낮아졌다를 계속해서 반복하므로, 정상적인 그래프가 그려지지 않는다.(즉 날짜별로는 그래프가 증가하거나 감소하지 않고 그저 진동한다.)\n",
        "#date로 표시할경우 에러 발생\n"
      ]
    },
    {
      "cell_type": "code",
      "source": [
        ""
      ],
      "metadata": {
        "id": "OcZIYfNsmFXn"
      },
      "execution_count": null,
      "outputs": []
    },
    {
      "cell_type": "markdown",
      "metadata": {
        "id": "zznAtjaZ0wcr"
      },
      "source": [
        "관계 분석, 그래프를 정확히 그리기 위해, 시계열 날짜 기준으로 보간"
      ]
    },
    {
      "cell_type": "code",
      "execution_count": 25,
      "metadata": {
        "id": "Q4ZcC3ca-eac"
      },
      "outputs": [],
      "source": [
        "df['SLP_price']=pd.Series(df['SLP_price']).interpolate(method='time')\n",
        "df['Player_count']=pd.Series(df['Player_count']).interpolate(method='time')\n",
        "df['Ether_price']=pd.Series(df['Ether_price']).interpolate(method='time')\n",
        "df['Axie_price']=pd.Series(df['Axie_price']).interpolate(method='time')\n",
        "\n",
        "\n",
        "\n",
        "#reference  출처: https://rfriend.tistory.com/264\n",
        " "
      ]
    },
    {
      "cell_type": "markdown",
      "source": [
        "다음과 같이 값을 채우고 나서, 실제로 각각의 correlation 값이 어떤지 확인해보자."
      ],
      "metadata": {
        "id": "Jp3EWxuimHXi"
      }
    },
    {
      "cell_type": "code",
      "source": [
        "correlation=df.corr()\n",
        "print(correlation)\n",
        "\n",
        "sns.clustermap(correlation,annot=True)\n",
        "\n",
        "#corr_data=df.pivot(\"SLP_price\",\"Player_count\",\"Ether_price\",\"Axie_price\")\n",
        "\n",
        "#참고 자료: https://m.blog.naver.com/kiddwannabe/221763497317 \n"
      ],
      "metadata": {
        "colab": {
          "base_uri": "https://localhost:8080/",
          "height": 856
        },
        "id": "p7d2zV5hnUnj",
        "outputId": "71b5907a-7c36-41f3-8433-f0e9ab45a131"
      },
      "execution_count": 33,
      "outputs": [
        {
          "output_type": "stream",
          "name": "stdout",
          "text": [
            "              SLP_price  Axie_price  Ether_price  Player_count    rownum\n",
            "SLP_price      1.000000    0.089363     0.212123      0.011985 -0.728051\n",
            "Axie_price     0.089363    1.000000     0.658834     -0.028509  0.373931\n",
            "Ether_price    0.212123    0.658834     1.000000     -0.030434  0.363866\n",
            "Player_count   0.011985   -0.028509    -0.030434      1.000000 -0.043408\n",
            "rownum        -0.728051    0.373931     0.363866     -0.043408  1.000000\n"
          ]
        },
        {
          "output_type": "execute_result",
          "data": {
            "text/plain": [
              "<seaborn.matrix.ClusterGrid at 0x7f1889ae3dd0>"
            ]
          },
          "metadata": {},
          "execution_count": 33
        },
        {
          "output_type": "display_data",
          "data": {
            "image/png": "[encoded data removed]",
            "text/plain": [
              "<Figure size 720x720 with 4 Axes>"
            ]
          },
          "metadata": {
            "needs_background": "light"
          }
        }
      ]
    },
    {
      "cell_type": "markdown",
      "source": [
        "다음 heatmap을 보면, player_count와 다른 코인가격과는 거의 0에 가까운 상관 관계를 가짐을 볼 수 있다."
      ],
      "metadata": {
        "id": "HgRvpCp3ssN7"
      }
    }
  ],
  "metadata": {
    "accelerator": "GPU",
    "colab": {
      "collapsed_sections": [],
      "name": "dap_term_project.ipynb",
      "provenance": [],
      "authorship_tag": "ABX9TyOC7J+J2/inWkuOtSTTzJQb",
      "include_colab_link": true
    },
    "kernelspec": {
      "display_name": "Python 3",
      "name": "python3"
    },
    "language_info": {
      "name": "python"
    }
  },
  "nbformat": 4,
  "nbformat_minor": 0
}